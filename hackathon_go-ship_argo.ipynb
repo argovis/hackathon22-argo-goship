{
 "cells": [
  {
   "cell_type": "markdown",
   "source": [
    "# Argo / GO-SHIP Comparison\r\n",
    "\r\n",
    "This will serve as our working notebook, broken into our discussed working components below. "
   ],
   "metadata": {}
  },
  {
   "cell_type": "markdown",
   "source": [
    "## This cell for imports, constants"
   ],
   "metadata": {}
  },
  {
   "cell_type": "code",
   "execution_count": null,
   "source": [
    "# data processing\r\n",
    "import numpy as np\r\n",
    "import pandas as pd\r\n",
    "from time import sleep\r\n",
    "\r\n",
    "#data visualization\r\n",
    "%matplotlib inline\r\n",
    "import matplotlib.pyplot as plt\r\n",
    "%matplotlib inline\r\n",
    "\r\n",
    "# API convenience functions\r\n",
    "from utilities_NSF_EC2022 import get_data_for_timeRange\r\n",
    "\r\n",
    "import warnings\r\n",
    "warnings.filterwarnings('ignore')\r\n",
    "\r\n",
    "# set constants\r\n",
    "URL_PREFIX = 'https://argovis-api.colorado.edu'\r\n",
    "API_KEY = ''"
   ],
   "outputs": [],
   "metadata": {}
  },
  {
   "cell_type": "markdown",
   "source": [
    "## This cell for data loading/processing to xarray"
   ],
   "metadata": {}
  },
  {
   "cell_type": "code",
   "execution_count": null,
   "source": [],
   "outputs": [],
   "metadata": {}
  },
  {
   "cell_type": "markdown",
   "source": [
    "## This cell for Data Visualization"
   ],
   "metadata": {}
  },
  {
   "cell_type": "code",
   "execution_count": null,
   "source": [
    "from argopy import DataFetcher as ArgoDataFetcher\r\n",
    "ArgoSet = ArgoDataFetcher().float([6902746])\r\n",
    "\r\n",
    "ds = ArgoSet.to_xarray()"
   ],
   "outputs": [],
   "metadata": {}
  },
  {
   "cell_type": "markdown",
   "source": [
    "## This cell for Data Interpolation/Comparison"
   ],
   "metadata": {}
  },
  {
   "cell_type": "code",
   "execution_count": null,
   "source": [],
   "outputs": [],
   "metadata": {}
  }
 ],
 "metadata": {
  "orig_nbformat": 4,
  "language_info": {
   "name": "python"
  }
 },
 "nbformat": 4,
 "nbformat_minor": 2
}