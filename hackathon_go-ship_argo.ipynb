{
 "cells": [
  {
   "cell_type": "markdown",
   "source": [
    "# Argo / GO-SHIP Comparison\r\n",
    "\r\n",
    "This will serve as our working notebook, broken into our discussed working components below. "
   ],
   "metadata": {}
  },
  {
   "cell_type": "markdown",
   "source": [
    "## This cell for imports, constants"
   ],
   "metadata": {}
  },
  {
   "cell_type": "code",
   "execution_count": 1,
   "source": [
    "# data processing\r\n",
    "import numpy as np\r\n",
    "import pandas as pd\r\n",
    "from time import sleep\r\n",
    "\r\n",
    "#data visualization\r\n",
    "%matplotlib inline\r\n",
    "import matplotlib.pyplot as plt\r\n",
    "%matplotlib inline\r\n",
    "\r\n",
    "# API convenience functions\r\n",
    "from utilities_NSF_EC2022 import get_data_for_timeRange\r\n",
    "\r\n",
    "import warnings\r\n",
    "warnings.filterwarnings('ignore')\r\n",
    "\r\n",
    "# set constants\r\n",
    "URL_PREFIX = 'https://argovis-api.colorado.edu'\r\n",
    "API_KEY = ''"
   ],
   "outputs": [],
   "metadata": {}
  },
  {
   "cell_type": "markdown",
   "source": [
    "## This cell for data loading/processing to xarray"
   ],
   "metadata": {}
  },
  {
   "cell_type": "code",
   "execution_count": 2,
   "source": [
    "# more convenient wrapper for if you want a line just by name\r\n",
    "def get_goship_line(line_name, startDate='1900-01-01T00:00:00Z', endDate='2022-05-01T00:00:00Z', dt_tag='365d', url=URL_PREFIX, api_key=API_KEY):\r\n",
    "    df = get_data_for_timeRange(startDate, endDate, url_prefix=url+'/profiles?', \r\n",
    "                                source='cchdo_go-ship', woceline=line_name, \r\n",
    "                                myAPIkey=api_key, dt_tag=dt_tag)\r\n",
    "    return df\r\n",
    "\r\n",
    "# I think we should have a time independent version of this function as well\r\n",
    "# could cheat this function into doing it with something like timedelta=1e5 or something\r\n",
    "def get_argo_along_line(time, coords, radius=50, timedelta=30, dt_tag='365d', url=URL_PREFIX, api_key=API_KEY):\r\n",
    "    df_all = pd.DataFrame()\r\n",
    "    for t, c in zip(time, coords):\r\n",
    "        sleep(.2)\r\n",
    "        startDate = (pd.Timestamp(t) - pd.Timedelta(timedelta/2)).strftime('%Y-%m-%dT%H:%M:%SZ')\r\n",
    "        endDate   = (pd.Timestamp(t) + pd.Timedelta(timedelta/2)).strftime('%Y-%m-%dT%H:%M:%SZ')\r\n",
    "        center    = f'{c[0]},{c[1]}'\r\n",
    "        df = get_data_for_timeRange(startDate, endDate, url_prefix=url+'/profiles?',\r\n",
    "            center=center, radius_km=f'{radius}', source='argo_core', data='pres,temp,psal',\r\n",
    "            myAPIkey=api_key, dt_tag=dt_tag, writeFlag=False)\r\n",
    "        df_all = df_all.append(df)\r\n",
    "    \r\n",
    "    return df_all\r\n",
    "\r\n",
    "# get argo data along line A22\r\n",
    "a22 = get_goship_line('A22')\r\n",
    "coords = [c['coordinates'] for c in a22.geolocation]\r\n",
    "time = a22.timestamp.values\r\n",
    "argo_a22 = get_argo_along_line(time, coords)"
   ],
   "outputs": [],
   "metadata": {}
  },
  {
   "cell_type": "code",
   "execution_count": null,
   "source": [
    "# process data from full of JSON points to more usable form\r\n",
    "\r\n",
    "def json_to_dataframe(df, keys=['pres', 'temp', 'psal']):\r\n",
    "    # for i in range(df.shape[0]):\r\n",
    "    data_dict = dict()\r\n",
    "    for i in range(1):\r\n",
    "        "
   ],
   "outputs": [],
   "metadata": {}
  },
  {
   "cell_type": "markdown",
   "source": [
    "## This cell for Data Visualization"
   ],
   "metadata": {}
  },
  {
   "cell_type": "code",
   "execution_count": null,
   "source": [
    "from argopy import DataFetcher as ArgoDataFetcher\r\n",
    "ArgoSet = ArgoDataFetcher().float([6902746])\r\n",
    "\r\n",
    "ds = ArgoSet.to_xarray()"
   ],
   "outputs": [],
   "metadata": {}
  },
  {
   "cell_type": "markdown",
   "source": [
    "## This cell for Data Interpolation/Comparison"
   ],
   "metadata": {}
  },
  {
   "cell_type": "code",
   "execution_count": null,
   "source": [],
   "outputs": [],
   "metadata": {}
  }
 ],
 "metadata": {
  "orig_nbformat": 4,
  "language_info": {
   "name": "python",
   "version": "3.9.12",
   "mimetype": "text/x-python",
   "codemirror_mode": {
    "name": "ipython",
    "version": 3
   },
   "pygments_lexer": "ipython3",
   "nbconvert_exporter": "python",
   "file_extension": ".py"
  },
  "kernelspec": {
   "name": "python3",
   "display_name": "Python 3.9.12 64-bit ('argovis_demos': conda)"
  },
  "interpreter": {
   "hash": "468ecce84b050c0641df651fd4dc0aab60643e0baf69ec668fbaa0a2423138fd"
  }
 },
 "nbformat": 4,
 "nbformat_minor": 2
}