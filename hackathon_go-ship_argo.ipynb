{
 "cells": [
  {
   "cell_type": "markdown",
   "metadata": {},
   "source": [
    "# Comparison Argo and GO-SHIP data\n",
    "\n",
    "In this Example notebook, profile data from a selected GO-SHIP cruise line is obtained, along with nearby Argo profiles that fall within user-provided time and space constraints from the GO-SHIP profiles. Those profile data are converted to more user-friendly xarray format, plotted as profiles and sections, interpolated onto a regular grid for comparison, and plotted as differences on that regular grid."
   ]
  },
  {
   "cell_type": "markdown",
   "metadata": {},
   "source": [
    "## Task 0: Import necessary packages and set constants for upcoming functions."
   ]
  },
  {
   "cell_type": "code",
   "execution_count": null,
   "metadata": {},
   "outputs": [],
   "source": [
    "# data processing\n",
    "import numpy as np\n",
    "import pandas as pd\n",
    "from time import sleep\n",
    "\n",
    "#data visualization\n",
    "%matplotlib inline\n",
    "import matplotlib.pyplot as plt\n",
    "%matplotlib inline\n",
    "\n",
    "# API convenience functions\n",
    "from utilities_NSF_EC2022 import get_data_for_timeRange\n",
    "\n",
    "import warnings\n",
    "warnings.filterwarnings('ignore')\n",
    "\n",
    "# set constants\n",
    "URL_PREFIX = 'https://argovis-api.colorado.edu'\n",
    "API_KEY = ''"
   ]
  },
  {
   "cell_type": "markdown",
   "metadata": {},
   "source": [
    "## Task 1: Download data from GO-SHIP line\n",
    "With the function *get_goship_line*, users can provide the name of a GO-SHIP to download all historical profiles from that line."
   ]
  },
  {
   "cell_type": "code",
   "execution_count": null,
   "metadata": {},
   "outputs": [],
   "source": [
    "# define the function\n",
    "def get_goship_line(line_name, startDate='1900-01-01T00:00:00Z', endDate='2022-05-01T00:00:00Z', dt_tag='365d', url=URL_PREFIX, api_key=API_KEY):\n",
    "    df = get_data_for_timeRange(startDate, endDate, url_prefix=url+'/profiles?', \n",
    "                                source='cchdo_go-ship', woceline=line_name, \n",
    "                                myAPIkey=api_key, dt_tag=dt_tag)\n",
    "    return df\n",
    "\n",
    "# get GO-SHIP data from line A22\n",
    "a22 = get_goship_line('A22')\n",
    "coords = [c['coordinates'] for c in a22.geolocation]\n",
    "time = a22.timestamp.values"
   ]
  },
  {
   "cell_type": "markdown",
   "metadata": {},
   "source": [
    "## Task 2: Download data from surrounding Argo profiles\n",
    "With the function *get_argo_along_line*, users can download data from Argo profiles that are within given time and space constraints from a given set of profiles (in this case the GO-SHIP data we downloaded in Task 1)."
   ]
  },
  {
   "cell_type": "code",
   "execution_count": null,
   "metadata": {},
   "outputs": [],
   "source": [
    "# define the function\n",
    "# I think we should have a time independent version of this function as well\n",
    "# could cheat this function into doing it with something like timedelta=1e5 or something\n",
    "def get_argo_along_line(time, coords, radius=50, timedelta=30, dt_tag='365d', url=URL_PREFIX, api_key=API_KEY):\n",
    "    df_all = pd.DataFrame()\n",
    "    for t, c in zip(time, coords):\n",
    "        sleep(.2)\n",
    "        startDate = (pd.Timestamp(t) - pd.Timedelta(timedelta/2)).strftime('%Y-%m-%dT%H:%M:%SZ')\n",
    "        endDate   = (pd.Timestamp(t) + pd.Timedelta(timedelta/2)).strftime('%Y-%m-%dT%H:%M:%SZ')\n",
    "        center    = f'{c[0]},{c[1]}'\n",
    "        df = get_data_for_timeRange(startDate, endDate, url_prefix=url+'/profiles?',\n",
    "            center=center, radius_km=f'{radius}', source='argo_core', data='pres,temp,psal',\n",
    "            myAPIkey=api_key, dt_tag=dt_tag, writeFlag=False)\n",
    "        df_all = df_all.append(df)\n",
    "    \n",
    "    return df_all\n",
    "\n",
    "# get argo data along line A22\n",
    "argo_a22 = get_argo_along_line(time, coords)"
   ]
  },
  {
   "cell_type": "markdown",
   "metadata": {},
   "source": [
    "## Task 3: Convert data to xarray\n",
    "The function *json_dataframe_to_dataframe* processes the data downloaded from prior tasks in json format to be ready for conversion to an xarray. The function *to_xarray* converts the data to an xarray."
   ]
  },
  {
   "cell_type": "code",
   "execution_count": null,
   "metadata": {},
   "outputs": [],
   "source": [
    "# process data from full of JSON points to more usable form\n",
    "def json_dataframe_to_dataframe(df):\n",
    "    out = pd.DataFrame()\n",
    "    for i in range(df.shape[0]):\n",
    "        # get the argo data\n",
    "        data_dict = dict()\n",
    "        data = df.data.iloc[i]\n",
    "        # repeat location and time data for same lenth as array\n",
    "        N_levels = len(data)\n",
    "        data_dict['wmo'] = N_levels*[int(df._id.iloc[i].split('_')[0])]\n",
    "        data_dict['cycle_number'] = N_levels*[df.cycle_number.iloc[i]]\n",
    "        data_dict['time'] = N_levels*[df.timestamp.iloc[i]]\n",
    "        data_dict['longitude'] = N_levels*[df.geolocation.iloc[i]['coordinates'][0]]\n",
    "        data_dict['latitude'] = N_levels*[df.geolocation.iloc[i]['coordinates'][1]]\n",
    "        # extract data from JSON dict\n",
    "        for k in df.data_keys.iloc[i]:\n",
    "            data_dict[k] = [d[k] for d in data]\n",
    "\n",
    "        out = out.append(pd.DataFrame(data_dict))\n",
    "    \n",
    "    return out\n",
    "\n",
    "df = json_dataframe_to_dataframe(argo_a22)\n",
    "ds = df.to_xarray()"
   ]
  },
  {
   "cell_type": "markdown",
   "metadata": {},
   "source": [
    "## Task 4: Plot GO-SHIP and Argo data\n",
    "First, we’ll plot data from each source as individual profiles(?), then as sections across latitude."
   ]
  },
  {
   "cell_type": "code",
   "execution_count": null,
   "metadata": {},
   "outputs": [],
   "source": []
  },
  {
   "cell_type": "markdown",
   "metadata": {},
   "source": [
    "## Task 5: Interpolate data to regular depth levels\n",
    "To compare GO-SHIP data with nearby Argo profiles, we’ll need the data to be on consistent depth levels. With the function *function name*, we can interpolate profiles onto a regular 2-dbar(?) by 0.1 degree(?) grid."
   ]
  },
  {
   "cell_type": "code",
   "execution_count": null,
   "metadata": {},
   "outputs": [],
   "source": []
  }
 ],
 "metadata": {
  "interpreter": {
   "hash": "468ecce84b050c0641df651fd4dc0aab60643e0baf69ec668fbaa0a2423138fd"
  },
  "kernelspec": {
   "display_name": "argovis_demos",
   "language": "python",
   "name": "argovis_demos"
  },
  "language_info": {
   "codemirror_mode": {
    "name": "ipython",
    "version": 3
   },
   "file_extension": ".py",
   "mimetype": "text/x-python",
   "name": "python",
   "nbconvert_exporter": "python",
   "pygments_lexer": "ipython3",
   "version": "3.9.12"
  }
 },
 "nbformat": 4,
 "nbformat_minor": 4
}
