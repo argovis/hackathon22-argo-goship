{
 "cells": [
  {
   "cell_type": "markdown",
   "metadata": {},
   "source": [
    "# Comparison Argo and GO-SHIP data\n",
    "\n",
    "In this Example notebook, profile data from a selected GO-SHIP cruise line is obtained, along with nearby Argo profiles that fall within user-provided time and space constraints from the GO-SHIP profiles. Those profile data are converted to more user-friendly xarray format, plotted as profiles and sections, interpolated onto a regular grid for comparison, and plotted as differences on that regular grid."
   ]
  },
  {
   "cell_type": "markdown",
   "metadata": {},
   "source": [
    "## Task 0: Import necessary packages and set constants for upcoming functions."
   ]
  },
  {
   "cell_type": "code",
   "execution_count": 5,
   "metadata": {},
   "outputs": [],
   "source": [
    "# data processing\n",
    "import numpy as np\n",
    "import pandas as pd\n",
    "from time import sleep\n",
    "\n",
    "#data visualization\n",
    "%matplotlib inline\n",
    "import matplotlib.pyplot as plt\n",
    "%matplotlib inline\n",
    "\n",
    "# API convenience functions\n",
    "from utilities_NSF_EC2022 import get_data_for_timeRange\n",
    "\n",
    "import warnings\n",
    "warnings.filterwarnings('ignore')\n",
    "\n",
    "# set constants\n",
    "URL_PREFIX = 'https://argovis-api.colorado.edu'\n",
    "API_KEY = ''"
   ]
  },
  {
   "cell_type": "markdown",
   "metadata": {},
   "source": [
    "## Task 1: Download data from GO-SHIP line\n",
    "With the function *get_goship_line*, users can provide the name of a GO-SHIP to download all historical profiles from that line."
   ]
  },
  {
   "cell_type": "code",
   "execution_count": 6,
   "metadata": {},
   "outputs": [
    {
     "name": "stdout",
     "output_type": "stream",
     "text": [
      "Data were not returned\n",
      "{'code': 403, 'message': 'You have temporarily exceeded your API request limit. Try again in a minute, but limit your requests to small bursts, or wait a few seconds between requests long term.'}\n",
      "https://argovis-api.colorado.edu/profiles?&startDate=2005-12-06T00:00:00Z&endDate=2006-12-06T00:00:00Z&source=cchdo_go-ship&woceline=A22\n"
     ]
    },
    {
     "ename": "Exception",
     "evalue": "No data",
     "output_type": "error",
     "traceback": [
      "\u001b[0;31m---------------------------------------------------------------------------\u001b[0m",
      "\u001b[0;31mException\u001b[0m                                 Traceback (most recent call last)",
      "File \u001b[0;32m~/Documents/PYTHON/hackathon22-argo-goship/utilities_NSF_EC2022.py:64\u001b[0m, in \u001b[0;36mget_data_from_url\u001b[0;34m(url, myAPIkey, writeFlag)\u001b[0m\n\u001b[1;32m     63\u001b[0m     d_raw \u001b[38;5;241m=\u001b[39m requests\u001b[38;5;241m.\u001b[39mget(url,headers\u001b[38;5;241m=\u001b[39m{\u001b[38;5;124m\"\u001b[39m\u001b[38;5;124mx-argokey\u001b[39m\u001b[38;5;124m\"\u001b[39m: myAPIkey})\u001b[38;5;241m.\u001b[39mjson()\n\u001b[0;32m---> 64\u001b[0m     ans \u001b[38;5;241m=\u001b[39m \u001b[43mcheck_error_message\u001b[49m\u001b[43m(\u001b[49m\u001b[43mans\u001b[49m\u001b[38;5;241;43m=\u001b[39;49m\u001b[43md_raw\u001b[49m\u001b[43m,\u001b[49m\u001b[43mwriteFlag\u001b[49m\u001b[38;5;241;43m=\u001b[39;49m\u001b[43mwriteFlag\u001b[49m\u001b[43m)\u001b[49m\n\u001b[1;32m     65\u001b[0m \u001b[38;5;28;01mexcept\u001b[39;00m:\n",
      "File \u001b[0;32m~/Documents/PYTHON/hackathon22-argo-goship/utilities_NSF_EC2022.py:33\u001b[0m, in \u001b[0;36mcheck_error_message\u001b[0;34m(ans, writeFlag)\u001b[0m\n\u001b[1;32m     32\u001b[0m     \u001b[38;5;28mprint\u001b[39m(ans)\n\u001b[0;32m---> 33\u001b[0m     \u001b[38;5;28;01mraise\u001b[39;00m \u001b[38;5;167;01mException\u001b[39;00m(\u001b[38;5;124m'\u001b[39m\u001b[38;5;124mNo data\u001b[39m\u001b[38;5;124m'\u001b[39m)\n\u001b[1;32m     34\u001b[0m \u001b[38;5;28;01mreturn\u001b[39;00m ans[\u001b[38;5;124m'\u001b[39m\u001b[38;5;124mcode\u001b[39m\u001b[38;5;124m'\u001b[39m]        \n",
      "\u001b[0;31mException\u001b[0m: No data",
      "\nDuring handling of the above exception, another exception occurred:\n",
      "\u001b[0;31mException\u001b[0m                                 Traceback (most recent call last)",
      "Input \u001b[0;32mIn [6]\u001b[0m, in \u001b[0;36m<cell line: 9>\u001b[0;34m()\u001b[0m\n\u001b[1;32m      6\u001b[0m     \u001b[38;5;28;01mreturn\u001b[39;00m df\n\u001b[1;32m      8\u001b[0m \u001b[38;5;66;03m# get GO-SHIP data from line A22\u001b[39;00m\n\u001b[0;32m----> 9\u001b[0m a22 \u001b[38;5;241m=\u001b[39m \u001b[43mget_goship_line\u001b[49m\u001b[43m(\u001b[49m\u001b[38;5;124;43m'\u001b[39;49m\u001b[38;5;124;43mA22\u001b[39;49m\u001b[38;5;124;43m'\u001b[39;49m\u001b[43m)\u001b[49m\n\u001b[1;32m     10\u001b[0m coords \u001b[38;5;241m=\u001b[39m [c[\u001b[38;5;124m'\u001b[39m\u001b[38;5;124mcoordinates\u001b[39m\u001b[38;5;124m'\u001b[39m] \u001b[38;5;28;01mfor\u001b[39;00m c \u001b[38;5;129;01min\u001b[39;00m a22\u001b[38;5;241m.\u001b[39mgeolocation]\n\u001b[1;32m     11\u001b[0m time \u001b[38;5;241m=\u001b[39m a22\u001b[38;5;241m.\u001b[39mtimestamp\u001b[38;5;241m.\u001b[39mvalues\n",
      "Input \u001b[0;32mIn [6]\u001b[0m, in \u001b[0;36mget_goship_line\u001b[0;34m(line_name, startDate, endDate, dt_tag, url, api_key)\u001b[0m\n\u001b[1;32m      2\u001b[0m \u001b[38;5;28;01mdef\u001b[39;00m \u001b[38;5;21mget_goship_line\u001b[39m(line_name, startDate\u001b[38;5;241m=\u001b[39m\u001b[38;5;124m'\u001b[39m\u001b[38;5;124m1900-01-01T00:00:00Z\u001b[39m\u001b[38;5;124m'\u001b[39m, endDate\u001b[38;5;241m=\u001b[39m\u001b[38;5;124m'\u001b[39m\u001b[38;5;124m2022-05-01T00:00:00Z\u001b[39m\u001b[38;5;124m'\u001b[39m, dt_tag\u001b[38;5;241m=\u001b[39m\u001b[38;5;124m'\u001b[39m\u001b[38;5;124m365d\u001b[39m\u001b[38;5;124m'\u001b[39m, url\u001b[38;5;241m=\u001b[39mURL_PREFIX, api_key\u001b[38;5;241m=\u001b[39mAPI_KEY):\n\u001b[0;32m----> 3\u001b[0m     df \u001b[38;5;241m=\u001b[39m \u001b[43mget_data_for_timeRange\u001b[49m\u001b[43m(\u001b[49m\u001b[43mstartDate\u001b[49m\u001b[43m,\u001b[49m\u001b[43m \u001b[49m\u001b[43mendDate\u001b[49m\u001b[43m,\u001b[49m\u001b[43m \u001b[49m\u001b[43murl_prefix\u001b[49m\u001b[38;5;241;43m=\u001b[39;49m\u001b[43murl\u001b[49m\u001b[38;5;241;43m+\u001b[39;49m\u001b[38;5;124;43m'\u001b[39;49m\u001b[38;5;124;43m/profiles?\u001b[39;49m\u001b[38;5;124;43m'\u001b[39;49m\u001b[43m,\u001b[49m\u001b[43m \u001b[49m\n\u001b[1;32m      4\u001b[0m \u001b[43m                                \u001b[49m\u001b[43msource\u001b[49m\u001b[38;5;241;43m=\u001b[39;49m\u001b[38;5;124;43m'\u001b[39;49m\u001b[38;5;124;43mcchdo_go-ship\u001b[39;49m\u001b[38;5;124;43m'\u001b[39;49m\u001b[43m,\u001b[49m\u001b[43m \u001b[49m\u001b[43mwoceline\u001b[49m\u001b[38;5;241;43m=\u001b[39;49m\u001b[43mline_name\u001b[49m\u001b[43m,\u001b[49m\u001b[43m \u001b[49m\n\u001b[1;32m      5\u001b[0m \u001b[43m                                \u001b[49m\u001b[43mmyAPIkey\u001b[49m\u001b[38;5;241;43m=\u001b[39;49m\u001b[43mapi_key\u001b[49m\u001b[43m,\u001b[49m\u001b[43m \u001b[49m\u001b[43mdt_tag\u001b[49m\u001b[38;5;241;43m=\u001b[39;49m\u001b[43mdt_tag\u001b[49m\u001b[43m)\u001b[49m\n\u001b[1;32m      6\u001b[0m     \u001b[38;5;28;01mreturn\u001b[39;00m df\n",
      "File \u001b[0;32m~/Documents/PYTHON/hackathon22-argo-goship/utilities_NSF_EC2022.py:159\u001b[0m, in \u001b[0;36mget_data_for_timeRange\u001b[0;34m(startDate, endDate, url_prefix, myAPIkey, radius_km, center, polygon, data, presRange, source, platform_id, woceline, dt_tag, writeFlag)\u001b[0m\n\u001b[1;32m    152\u001b[0m     url_to_use \u001b[38;5;241m=\u001b[39m create_url(url_prefix\u001b[38;5;241m=\u001b[39murl_prefix, \\\n\u001b[1;32m    153\u001b[0m                            startDate\u001b[38;5;241m=\u001b[39mlist_of_days[i], \\\n\u001b[1;32m    154\u001b[0m                            endDate\u001b[38;5;241m=\u001b[39mlist_of_days[i\u001b[38;5;241m+\u001b[39m\u001b[38;5;241m1\u001b[39m], \\\n\u001b[1;32m    155\u001b[0m                            radius_km\u001b[38;5;241m=\u001b[39mradius_km,center\u001b[38;5;241m=\u001b[39mcenter, \\\n\u001b[1;32m    156\u001b[0m                            polygon\u001b[38;5;241m=\u001b[39mpolygon,data\u001b[38;5;241m=\u001b[39mdata,presRange\u001b[38;5;241m=\u001b[39mpresRange, \\\n\u001b[1;32m    157\u001b[0m                            source\u001b[38;5;241m=\u001b[39msource,platform_id\u001b[38;5;241m=\u001b[39mplatform_id,woceline\u001b[38;5;241m=\u001b[39mwoceline)\n\u001b[1;32m    158\u001b[0m     \u001b[38;5;66;03m#print(url_to_use)\u001b[39;00m\n\u001b[0;32m--> 159\u001b[0m     info_ALL   \u001b[38;5;241m=\u001b[39m info_ALL \u001b[38;5;241m+\u001b[39m \u001b[43mget_data_from_url\u001b[49m\u001b[43m(\u001b[49m\u001b[43murl\u001b[49m\u001b[38;5;241;43m=\u001b[39;49m\u001b[43murl_to_use\u001b[49m\u001b[43m,\u001b[49m\u001b[43mmyAPIkey\u001b[49m\u001b[38;5;241;43m=\u001b[39;49m\u001b[43mmyAPIkey\u001b[49m\u001b[43m,\u001b[49m\u001b[43mwriteFlag\u001b[49m\u001b[38;5;241;43m=\u001b[39;49m\u001b[43mwriteFlag\u001b[49m\u001b[43m)\u001b[49m\n\u001b[1;32m    161\u001b[0m info_ALL \u001b[38;5;241m=\u001b[39m pd\u001b[38;5;241m.\u001b[39mDataFrame(info_ALL)\n\u001b[1;32m    163\u001b[0m \u001b[38;5;28;01mreturn\u001b[39;00m info_ALL\n",
      "File \u001b[0;32m~/Documents/PYTHON/hackathon22-argo-goship/utilities_NSF_EC2022.py:67\u001b[0m, in \u001b[0;36mget_data_from_url\u001b[0;34m(url, myAPIkey, writeFlag)\u001b[0m\n\u001b[1;32m     65\u001b[0m \u001b[38;5;28;01mexcept\u001b[39;00m:\n\u001b[1;32m     66\u001b[0m     \u001b[38;5;28mprint\u001b[39m(url)\n\u001b[0;32m---> 67\u001b[0m     \u001b[38;5;28;01mraise\u001b[39;00m \u001b[38;5;167;01mException\u001b[39;00m(\u001b[38;5;124m'\u001b[39m\u001b[38;5;124mNo data\u001b[39m\u001b[38;5;124m'\u001b[39m)\n\u001b[1;32m     68\u001b[0m \u001b[38;5;66;03m# check that data are a list of dictionaries as expected\u001b[39;00m\n\u001b[1;32m     69\u001b[0m \u001b[38;5;28;01mif\u001b[39;00m ans \u001b[38;5;241m==\u001b[39m \u001b[38;5;241m404\u001b[39m:\n",
      "\u001b[0;31mException\u001b[0m: No data"
     ]
    }
   ],
   "source": [
    "# define the function\n",
    "def get_goship_line(line_name, startDate='1900-01-01T00:00:00Z', endDate='2022-05-01T00:00:00Z', dt_tag='365d', url=URL_PREFIX, api_key=API_KEY):\n",
    "    df = get_data_for_timeRange(startDate, endDate, url_prefix=url+'/profiles?', \n",
    "                                source='cchdo_go-ship', woceline=line_name, \n",
    "                                myAPIkey=api_key, dt_tag=dt_tag)\n",
    "    return df\n",
    "\n",
    "# get GO-SHIP data from line A22\n",
    "a22 = get_goship_line('A22')\n",
    "coords = [c['coordinates'] for c in a22.geolocation]\n",
    "time = a22.timestamp.values"
   ]
  },
  {
   "cell_type": "markdown",
   "metadata": {},
   "source": [
    "## Task 2: Download data from surrounding Argo profiles\n",
    "With the function *get_argo_along_line*, users can download data from Argo profiles that are within given time and space constraints from a given set of profiles (in this case the GO-SHIP data we downloaded in Task 1)."
   ]
  },
  {
   "cell_type": "code",
   "execution_count": null,
   "metadata": {},
   "outputs": [],
   "source": [
    "# define the function\n",
    "# I think we should have a time independent version of this function as well\n",
    "# could cheat this function into doing it with something like timedelta=1e5 or something\n",
    "def get_argo_along_line(time, coords, radius=50, timedelta=30, dt_tag='365d', url=URL_PREFIX, api_key=API_KEY):\n",
    "    df_all = pd.DataFrame()\n",
    "    for t, c in zip(time, coords):\n",
    "        sleep(.2)\n",
    "        startDate = (pd.Timestamp(t) - pd.Timedelta(timedelta/2)).strftime('%Y-%m-%dT%H:%M:%SZ')\n",
    "        endDate   = (pd.Timestamp(t) + pd.Timedelta(timedelta/2)).strftime('%Y-%m-%dT%H:%M:%SZ')\n",
    "        center    = f'{c[0]},{c[1]}'\n",
    "        df = get_data_for_timeRange(startDate, endDate, url_prefix=url+'/profiles?',\n",
    "            center=center, radius_km=f'{radius}', source='argo_core', data='pres,temp,psal',\n",
    "            myAPIkey=api_key, dt_tag=dt_tag, writeFlag=False)\n",
    "        df_all = df_all.append(df)\n",
    "    \n",
    "    return df_all\n",
    "\n",
    "# get argo data along line A22\n",
    "argo_a22 = get_argo_along_line(time, coords)"
   ]
  },
  {
   "cell_type": "markdown",
   "metadata": {},
   "source": [
    "## Task 3: Convert data to xarray\n",
    "The function *json_dataframe_to_dataframe* processes the data downloaded from prior tasks in json format to be ready for conversion to an xarray. The function *to_xarray* converts the data to an xarray."
   ]
  },
  {
   "cell_type": "code",
   "execution_count": 33,
   "metadata": {},
   "outputs": [],
   "source": [
    "# process data from full of JSON points to more usable form\n",
    "def json_dataframe_to_dataframe(df):\n",
    "    out = pd.DataFrame()\n",
    "    for i in range(df.shape[0]):\n",
    "        # get the argo data\n",
    "        data_dict = dict()\n",
    "        data = df.data.iloc[i]\n",
    "        # repeat location and time data for same lenth as array\n",
    "        N_levels = len(data)\n",
    "        data_dict['wmo'] = N_levels*[int(df._id.iloc[i].split('_')[0])]\n",
    "        data_dict['cycle_number'] = N_levels*[df.cycle_number.iloc[i]]\n",
    "        data_dict['time'] = N_levels*[df.timestamp.iloc[i]]\n",
    "        data_dict['longitude'] = N_levels*[df.geolocation.iloc[i]['coordinates'][0]]\n",
    "        data_dict['latitude'] = N_levels*[df.geolocation.iloc[i]['coordinates'][1]]\n",
    "        # extract data from JSON dict\n",
    "        for k in df.data_keys.iloc[i]:\n",
    "            data_dict[k] = [d[k] for d in data]\n",
    "\n",
    "        out = out.append(pd.DataFrame(data_dict))\n",
    "    \n",
    "    return out\n",
    "\n",
    "df = json_dataframe_to_dataframe(argo_a22)\n",
    "ds = df.to_xarray()"
   ]
  },
  {
   "cell_type": "markdown",
   "metadata": {},
   "source": [
    "## Task 4: Plot GO-SHIP and Argo data\n",
    "First, we’ll plot data from each source as individual profiles(?), then as sections across latitude."
   ]
  },
  {
   "cell_type": "code",
   "execution_count": null,
   "metadata": {},
   "outputs": [],
   "source": []
  },
  {
   "cell_type": "markdown",
   "metadata": {},
   "source": [
    "## Task 5: Interpolate data to regular depth levels\n",
    "To compare GO-SHIP data with nearby Argo profiles, we’ll need the data to be on consistent depth levels. With the function *function name*, we can interpolate profiles onto a regular 2-dbar(?) by 0.1 degree(?) grid."
   ]
  },
  {
   "cell_type": "code",
   "execution_count": null,
   "metadata": {},
   "outputs": [],
   "source": []
  }
 ],
 "metadata": {
  "interpreter": {
   "hash": "468ecce84b050c0641df651fd4dc0aab60643e0baf69ec668fbaa0a2423138fd"
  },
  "kernelspec": {
   "display_name": "argovis_demos",
   "language": "python",
   "name": "argovis_demos"
  },
  "language_info": {
   "codemirror_mode": {
    "name": "ipython",
    "version": 3
   },
   "file_extension": ".py",
   "mimetype": "text/x-python",
   "name": "python",
   "nbconvert_exporter": "python",
   "pygments_lexer": "ipython3",
   "version": "3.9.12"
  }
 },
 "nbformat": 4,
 "nbformat_minor": 4
}
