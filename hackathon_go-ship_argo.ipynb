{
 "cells": [
  {
   "cell_type": "markdown",
   "source": [
    "# Argo / GO-SHIP Comparison\r\n",
    "\r\n",
    "This will serve as our working notebook, broken into our discussed working components below. "
   ],
   "metadata": {}
  },
  {
   "cell_type": "markdown",
   "source": [
    "## This cell for imports, constants"
   ],
   "metadata": {}
  },
  {
   "cell_type": "code",
   "execution_count": null,
   "source": [
    "# data processing\r\n",
    "import numpy as np\r\n",
    "import pandas as pd\r\n",
    "import xarray as xr\r\n",
    "from time import sleep\r\n",
    "\r\n",
    "#data visualization\r\n",
    "%matplotlib inline\r\n",
    "import matplotlib.pyplot as plt\r\n",
    "%matplotlib inline\r\n",
    "\r\n",
    "# API convenience functions\r\n",
    "from utilities_NSF_EC2022 import get_data_for_timeRange\r\n",
    "\r\n",
    "import warnings\r\n",
    "warnings.filterwarnings('ignore')\r\n",
    "\r\n",
    "# set constants\r\n",
    "URL_PREFIX = 'https://argovis-api.colorado.edu'\r\n",
    "API_KEY = ''"
   ],
   "outputs": [],
   "metadata": {}
  },
  {
   "cell_type": "markdown",
   "source": [
    "## This cell for data loading/processing to xarray"
   ],
   "metadata": {}
  },
  {
   "cell_type": "code",
   "execution_count": null,
   "source": [
    "# more convenient wrapper for if you want a line just by name\r\n",
    "def get_goship_line(line_name, startDate='1900-01-01T00:00:00Z', endDate='2022-05-01T00:00:00Z', dt_tag='365d', url=URL_PREFIX, api_key=API_KEY):\r\n",
    "    df = get_data_for_timeRange(startDate, endDate, url_prefix=url+'/profiles?', \r\n",
    "                                source='cchdo_go-ship', woceline=line_name, \r\n",
    "                                myAPIkey=api_key, dt_tag=dt_tag)\r\n",
    "    return df\r\n",
    "\r\n",
    "# I think we should have a time independent version of this function as well\r\n",
    "# could cheat this function into doing it with something like timedelta=1e5 or something\r\n",
    "def get_argo_along_line(time, coords, radius=50, timedelta=30, dt_tag='365d', url=URL_PREFIX, api_key=API_KEY):\r\n",
    "    df_all = pd.DataFrame()\r\n",
    "    for t, c in zip(time, coords):\r\n",
    "        sleep(.2)\r\n",
    "        startDate = (pd.Timestamp(t) - pd.Timedelta(timedelta/2)).strftime('%Y-%m-%dT%H:%M:%SZ')\r\n",
    "        endDate   = (pd.Timestamp(t) + pd.Timedelta(timedelta/2)).strftime('%Y-%m-%dT%H:%M:%SZ')\r\n",
    "        center    = f'{c[0]},{c[1]}'\r\n",
    "        df = get_data_for_timeRange(startDate, endDate, url_prefix=url+'/profiles?',\r\n",
    "            center=center, radius_km=f'{radius}', source='argo_core', data='pres,temp,psal',\r\n",
    "            myAPIkey=api_key, dt_tag=dt_tag, writeFlag=False)\r\n",
    "        df_all = df_all.append(df)\r\n",
    "    \r\n",
    "    return df_all\r\n",
    "\r\n",
    "# get argo data along line A22\r\n",
    "a22 = get_goship_line('A22')\r\n",
    "coords = [c['coordinates'] for c in a22.geolocation]\r\n",
    "time = a22.timestamp.values\r\n",
    "argo_a22 = get_argo_along_line(time, coords)"
   ],
   "outputs": [],
   "metadata": {}
  },
  {
   "cell_type": "code",
   "execution_count": null,
   "source": [
    "# process data from full of JSON points to more usable form\r\n",
    "def json_dataframe_to_dataframe(df):\r\n",
    "    out = pd.DataFrame()\r\n",
    "    for i in range(df.shape[0]):\r\n",
    "        # get the argo data\r\n",
    "        data_dict = dict()\r\n",
    "        data = df.data.iloc[i]\r\n",
    "        # repeat location and time data for same lenth as array\r\n",
    "        N_levels = len(data)\r\n",
    "        data_dict['wmo'] = N_levels*[int(df._id.iloc[i].split('_')[0])]\r\n",
    "        data_dict['cycle_number'] = N_levels*[df.cycle_number.iloc[i]]\r\n",
    "        data_dict['time'] = N_levels*[df.timestamp.iloc[i]]\r\n",
    "        data_dict['longitude'] = N_levels*[df.geolocation.iloc[i]['coordinates'][0]]\r\n",
    "        data_dict['latitude'] = N_levels*[df.geolocation.iloc[i]['coordinates'][1]]\r\n",
    "        # extract data from JSON dict\r\n",
    "        for k in df.data_keys.iloc[i]:\r\n",
    "            data_dict[k] = [d[k] for d in data]\r\n",
    "\r\n",
    "        out = pd.concat((out, pd.DataFrame(data_dict, index=(i+1)*np.ones((N_levels,), dtype=int))))\r\n",
    "    \r\n",
    "    return out\r\n",
    "\r\n",
    "df = json_dataframe_to_dataframe(argo_a22)\r\n",
    "\r\n",
    "def dataframe_to_xarray(df):\r\n",
    "    # get max number of depth levels\r\n",
    "    ix = df.index.unique()\r\n",
    "    number_profiles = ix.shape[0]\r\n",
    "    max_levels = -np.inf\r\n",
    "    for nprof in ix:\r\n",
    "        if df.loc[nprof].shape[0] > max_levels:\r\n",
    "            max_levels = df.loc[nprof].shape[0]\r\n",
    "\r\n",
    "    # extract lower dimension metadata\r\n",
    "    metadata = ['wmo', 'cycle_number', 'time', 'longitude', 'latitude']\r\n",
    "    meta_dict = dict()\r\n",
    "    for k in metadata:\r\n",
    "        meta_dict[k] = [df[k].loc[i].iloc[0] for i in ix]\r\n",
    "    df = df.drop(metadata, axis=1)\r\n",
    "    data_dict = {k:np.nan*np.ones((number_profiles,max_levels)) for k in df.columns}\r\n",
    "\r\n",
    "    # put argo data into \"square\" arrays\r\n",
    "    for nprof in ix:\r\n",
    "        profile = df.loc[nprof]\r\n",
    "        current_depth_levels = profile.shape[0]\r\n",
    "        for k in profile.columns:\r\n",
    "            data_dict[k][nprof-1,:current_depth_levels] = profile[k]\r\n",
    "    \r\n",
    "\r\n",
    "    # create xarray dataset\r\n",
    "    ds = xr.Dataset(\r\n",
    "        data_vars = {k:(['n_prof', 'n_level'], v) for k,v in data_dict.items()},\r\n",
    "        coords = {k:(['n_prof'], v) for k,v in meta_dict.items()}\r\n",
    "    )\r\n",
    "\r\n",
    "    return ds\r\n",
    "\r\n"
   ],
   "outputs": [],
   "metadata": {}
  },
  {
   "cell_type": "markdown",
   "source": [
    "## This cell for Data Visualization"
   ],
   "metadata": {}
  },
  {
   "cell_type": "code",
   "execution_count": null,
   "source": [
    "ds = dataframe_to_xarray(df)\r\n",
    "ds"
   ],
   "outputs": [],
   "metadata": {}
  },
  {
   "cell_type": "markdown",
   "source": [
    "## This cell for Data Interpolation/Comparison"
   ],
   "metadata": {}
  },
  {
   "cell_type": "code",
   "execution_count": null,
   "source": [],
   "outputs": [],
   "metadata": {}
  }
 ],
 "metadata": {
  "orig_nbformat": 4,
  "language_info": {
   "name": "python",
   "version": "3.9.12"
  },
  "kernelspec": {
   "name": "python3",
   "display_name": "Python 3.9.12 64-bit ('argovis_demos': conda)"
  },
  "interpreter": {
   "hash": "468ecce84b050c0641df651fd4dc0aab60643e0baf69ec668fbaa0a2423138fd"
  }
 },
 "nbformat": 4,
 "nbformat_minor": 2
}