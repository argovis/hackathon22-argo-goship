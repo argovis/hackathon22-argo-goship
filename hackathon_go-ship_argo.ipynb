{
 "cells": [
  {
   "cell_type": "markdown",
   "metadata": {},
   "source": [
    "# Argo / GO-SHIP Comparison\n",
    "\n",
    "This will serve as our working notebook, broken into our discussed working components below. "
   ]
  },
  {
   "cell_type": "markdown",
   "metadata": {},
   "source": [
    "## This cell for imports, constants"
   ]
  },
  {
   "cell_type": "code",
   "execution_count": 1,
   "metadata": {},
   "outputs": [],
   "source": [
    "# data processing\n",
    "import numpy as np\n",
    "import pandas as pd\n",
    "import xarray as xr\n",
    "from time import sleep\n",
    "\n",
    "# data visualization\n",
    "%matplotlib inline\n",
    "import matplotlib.pyplot as plt\n",
    "%matplotlib inline\n",
    "\n",
    "# API convenience functions\n",
    "from utilities_NSF_EC2022 import get_data_for_timeRange\n",
    "\n",
    "# geographic functions\n",
    "import cartopy.crs as ccrs\n",
    "import cartopy.feature as cft\n",
    "from cartopy.mpl.ticker import LongitudeFormatter, LatitudeFormatter\n",
    "\n",
    "import warnings\n",
    "warnings.filterwarnings('ignore')\n",
    "\n",
    "# set constants\n",
    "URL_PREFIX = 'https://argovis-api.colorado.edu'\n",
    "API_KEY = ''"
   ]
  },
  {
   "cell_type": "markdown",
   "metadata": {},
   "source": [
    "## This cell for data loading/processing to xarray"
   ]
  },
  {
   "cell_type": "code",
   "execution_count": 5,
   "metadata": {},
   "outputs": [],
   "source": [
    "# more convenient wrapper for if you want a line just by name\n",
    "def get_goship_line(line_name, startDate='2000-01-01T00:00:00Z', endDate='2022-05-01T00:00:00Z', dt_tag='365d', url=URL_PREFIX, api_key=API_KEY):\n",
    "    df = get_data_for_timeRange(startDate, endDate, url_prefix=url+'/profiles?', \n",
    "                                source='cchdo_go-ship', woceline=line_name, \n",
    "                                myAPIkey=api_key, dt_tag=dt_tag)\n",
    "    return df\n",
    "\n",
    "# I think we should have a time independent version of this function as well\n",
    "# could cheat this function into doing it with something like timedelta=1e5 or something\n",
    "def get_argo_along_line(time, coords, radius=50, timedelta=30, dt_tag='365d', url=URL_PREFIX, api_key=API_KEY):\n",
    "    df_all = pd.DataFrame()\n",
    "    for t, c in zip(time, coords):\n",
    "        sleep(.2)\n",
    "        startDate = (pd.Timestamp(t) - pd.Timedelta(timedelta/2)).strftime('%Y-%m-%dT%H:%M:%SZ')\n",
    "        endDate   = (pd.Timestamp(t) + pd.Timedelta(timedelta/2)).strftime('%Y-%m-%dT%H:%M:%SZ')\n",
    "        center    = f'{c[0]},{c[1]}'\n",
    "        df = get_data_for_timeRange(startDate, endDate, url_prefix=url+'/profiles?',\n",
    "            center=center, radius_km=f'{radius}', source='argo_core', data='pres,temp,psal',\n",
    "            myAPIkey=api_key, dt_tag=dt_tag, writeFlag=False)\n",
    "        df_all = df_all.append(df)\n",
    "    \n",
    "    return df_all\n",
    "\n",
    "# get argo data along line A22\n",
    "a22 = get_goship_line('A22')\n",
    "coords = [c['coordinates'] for c in a22.geolocation]\n",
    "time = a22.timestamp.values\n",
    "argo_a22 = get_argo_along_line(time, coords)"
   ]
  },
  {
   "cell_type": "code",
   "execution_count": 6,
   "metadata": {},
   "outputs": [],
   "source": [
    "# process data from full of JSON points to more usable form\n",
    "def json_dataframe_to_dataframe(df):\n",
    "    out = pd.DataFrame()\n",
    "    for i in range(df.shape[0]):\n",
    "        # get the argo data\n",
    "        data_dict = dict()\n",
    "        data = df.data.iloc[i]\n",
    "        # repeat location and time data for same lenth as array\n",
    "        N_levels = len(data)\n",
    "        data_dict['wmo'] = N_levels*[int(df._id.iloc[i].split('_')[0])]\n",
    "        data_dict['cycle_number'] = N_levels*[df.cycle_number.iloc[i]]\n",
    "        data_dict['time'] = N_levels*[df.timestamp.iloc[i]]\n",
    "        data_dict['longitude'] = N_levels*[df.geolocation.iloc[i]['coordinates'][0]]\n",
    "        data_dict['latitude'] = N_levels*[df.geolocation.iloc[i]['coordinates'][1]]\n",
    "        # extract data from JSON dict\n",
    "        for k in df.data_keys.iloc[i]:\n",
    "            data_dict[k] = [d[k] for d in data]\n",
    "\n",
    "        out = pd.concat((out, pd.DataFrame(data_dict, index=(i+1)*np.ones((N_levels,), dtype=int))))\n",
    "    \n",
    "    return out\n",
    "\n",
    "df = json_dataframe_to_dataframe(argo_a22)\n",
    "\n",
    "def dataframe_to_xarray(df):\n",
    "    # get max number of depth levels\n",
    "    ix = df.index.unique()\n",
    "    number_profiles = ix.shape[0]\n",
    "    max_levels = -np.inf\n",
    "    for nprof in ix:\n",
    "        if df.loc[nprof].shape[0] > max_levels:\n",
    "            max_levels = df.loc[nprof].shape[0]\n",
    "\n",
    "    # extract lower dimension metadata\n",
    "    metadata = ['wmo', 'cycle_number', 'time', 'longitude', 'latitude']\n",
    "    meta_dict = dict()\n",
    "    for k in metadata:\n",
    "        meta_dict[k] = [df[k].loc[i].iloc[0] for i in ix]\n",
    "    df = df.drop(metadata, axis=1)\n",
    "    data_dict = {k:np.nan*np.ones((number_profiles, max_levels)) for k in df.columns}\n",
    "\n",
    "    # put argo data into \"square\" arrays\n",
    "    for nprof in ix:\n",
    "        profile = df.loc[nprof]\n",
    "        current_depth_levels = profile.shape[0]\n",
    "        for k in profile.columns:\n",
    "            data_dict[k][nprof-1,:current_depth_levels] = profile[k]\n",
    "    \n",
    "\n",
    "    # create xarray dataset\n",
    "    ds = xr.Dataset(\n",
    "        data_vars = {k:(['n_prof', 'n_level'], v) for k, v in data_dict.items()},\n",
    "        coords = {k:(['n_prof'], v) for k, v in meta_dict.items()}\n",
    "    )\n",
    "    # transpose for simpler plotting\n",
    "    ds = ds.transpose('n_level', 'n_prof')\n",
    "\n",
    "    return ds\n",
    "\n",
    "ds = dataframe_to_xarray(df)"
   ]
  },
  {
   "cell_type": "markdown",
   "metadata": {},
   "source": [
    "## This cell for Data Visualization"
   ]
  },
  {
   "cell_type": "code",
   "execution_count": 7,
   "metadata": {},
   "outputs": [
    {
     "data": {
      "text/plain": [
       "[<matplotlib.lines.Line2D at 0x7f1ef6d688b0>]"
      ]
     },
     "execution_count": 7,
     "metadata": {},
     "output_type": "execute_result"
    },
    {
     "data": {
      "image/png": "[encoded data removed]",
      "text/plain": [
       "<Figure size 432x288 with 1 Axes>"
      ]
     },
     "metadata": {
      "needs_background": "light"
     },
     "output_type": "display_data"
    }
   ],
   "source": [
    "# figure out appropriate extent\n",
    "coords = np.array(coords)\n",
    "line_limits = [\n",
    "    [np.min(coords[:,0]), np.max(coords[:,0])],\n",
    "    [np.min(coords[:,1]), np.max(coords[:,1])]\n",
    "]\n",
    "\n",
    "# set up map\n",
    "fig = plt.figure()\n",
    "projection = ccrs.PlateCarree()\n",
    "transform = ccrs.PlateCarree()\n",
    "ax = fig.add_subplot(projection=projection)\n",
    "ax.set_extent([line_limits[0][0]-2, line_limits[0][1]+2, line_limits[1][0]-2, line_limits[1][1]+2])\n",
    "ax.add_feature(cft.GSHHSFeature('intermediate', edgecolor='black'))\n",
    "lon_formatter = LongitudeFormatter(zero_direction_label=True)\n",
    "lat_formatter = LatitudeFormatter()\n",
    "gl = ax.gridlines(crs=transform, draw_labels=True)\n",
    "gl.right_labels = False\n",
    "gl.xformatter = lon_formatter\n",
    "gl.yformatter = lat_formatter\n",
    "\n",
    "# plot go-ship line coordinates\n",
    "ax.plot(coords[:,0], coords[:,1], 'ko', transform=transform, label='GO-SHIP line A22')\n",
    "# plot Argo coordinates\n",
    "ax.plot(ds.longitude, ds.latitude, 'o', color='red', transform=transform, label='Core Argo Profiles')"
   ]
  },
  {
   "cell_type": "code",
   "execution_count": 8,
   "metadata": {},
   "outputs": [],
   "source": [
    "# Turn mapping into a function\n",
    "\n",
    "def create_map(coords, line_name):\n",
    "    # figure out appropriate extent\n",
    "    coords = np.array(coords)\n",
    "    line_limits = [\n",
    "        [np.min(coords[:,0]), np.max(coords[:,0])],\n",
    "        [np.min(coords[:,1]), np.max(coords[:,1])]\n",
    "    ]\n",
    "\n",
    "    # set up map\n",
    "    fig = plt.figure()\n",
    "    projection = ccrs.PlateCarree()\n",
    "    transform = ccrs.PlateCarree()\n",
    "    ax = fig.add_subplot(projection=projection)\n",
    "    ax.set_extent([line_limits[0][0]-2, line_limits[0][1]+2, line_limits[1][0]-2, line_limits[1][1]+2])\n",
    "    ax.add_feature(cft.GSHHSFeature('intermediate', edgecolor='black'))\n",
    "    lon_formatter = LongitudeFormatter(zero_direction_label=True)\n",
    "    lat_formatter = LatitudeFormatter()\n",
    "    gl = ax.gridlines(crs=transform, draw_labels=True)\n",
    "    gl.right_labels = False\n",
    "    gl.xformatter = lon_formatter\n",
    "    gl.yformatter = lat_formatter\n",
    "\n",
    "    # plot go-ship line coordinates\n",
    "    ax.plot(coords[:,0], coords[:,1], 'ko', transform=transform, label=line_name)\n",
    "    # plot Argo coordinates\n",
    "    ax.plot(ds.longitude, ds.latitude, 'o', color='red', transform=transform, label='Core Argo Profiles')"
   ]
  },
  {
   "cell_type": "code",
   "execution_count": 9,
   "metadata": {},
   "outputs": [
    {
     "data": {
      "image/png": "[encoded data removed]",
      "text/plain": [
       "<Figure size 432x288 with 1 Axes>"
      ]
     },
     "metadata": {
      "needs_background": "light"
     },
     "output_type": "display_data"
    }
   ],
   "source": [
    "# Draw map with function\n",
    "create_map(coords, \"GO-SHIP Line A22\")"
   ]
  },
  {
   "cell_type": "markdown",
   "metadata": {},
   "source": [
    "## This cell for Data Interpolation/Comparison"
   ]
  },
  {
   "cell_type": "code",
   "execution_count": null,
   "metadata": {},
   "outputs": [],
   "source": []
  }
 ],
 "metadata": {
  "interpreter": {
   "hash": "468ecce84b050c0641df651fd4dc0aab60643e0baf69ec668fbaa0a2423138fd"
  },
  "kernelspec": {
   "display_name": "Python(argovis)",
   "language": "python",
   "name": "argovis_demos"
  },
  "language_info": {
   "codemirror_mode": {
    "name": "ipython",
    "version": 3
   },
   "file_extension": ".py",
   "mimetype": "text/x-python",
   "name": "python",
   "nbconvert_exporter": "python",
   "pygments_lexer": "ipython3",
   "version": "3.9.12"
  }
 },
 "nbformat": 4,
 "nbformat_minor": 2
}
